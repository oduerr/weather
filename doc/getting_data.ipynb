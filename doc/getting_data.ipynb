{
 "cells": [
  {
   "cell_type": "markdown",
   "id": "2dfe9999",
   "metadata": {},
   "source": [
    "### HTWG Data Base\n",
    "\n",
    "See also DATA-INTERFACE. "
   ]
  },
  {
   "cell_type": "markdown",
   "id": "0f3f5c10",
   "metadata": {},
   "source": [
    "https://www.google.com/maps?q=47.6952,9.1307\n",
    "\n",
    "Link for Bright Sky \n",
    "https://brightsky.dev/docs/#/operations/getCurrentWeather\n"
   ]
  },
  {
   "cell_type": "code",
   "execution_count": 5,
   "id": "961ff072",
   "metadata": {},
   "outputs": [
    {
     "name": "stdout",
     "output_type": "stream",
     "text": [
      "{\"weather\":{\"source_id\":66781,\"timestamp\":\"2025-08-07T20:00:00+00:00\",\"cloud_cover\":0,\"condition\":\"dry\",\"dew_point\":14.6,\"solar_10\":0.0,\"solar_30\":0.0,\"solar_60\":0.0,\"precipitation_10\":0.0,\"precipitation_30\":0.0,\"precipitation_60\":0.0,\"pressure_msl\":1018.4,\"relative_humidity\":75,\"visibility\":56006,\"wind_direction_10\":20,\"wind_direction_30\":30,\"wind_direction_60\":43,\"wind_speed_10\":2.9,\"wind_speed_30\":3.2,\"wind_speed_60\":4.0,\"wind_gust_direction_10\":350,\"wind_gust_direction_30\":350,\"wind_gust_direction_60\":50,\"wind_gust_speed_10\":4.0,\"wind_gust_speed_30\":5.8,\"wind_gust_speed_60\":6.1,\"sunshine_30\":0.0,\"sunshine_60\":0.0,\"temperature\":19.1,\"fallback_source_ids\":{},\"icon\":\"clear-night\"},\"sources\":[{\"id\":66781,\"dwd_station_id\":\"02712\",\"observation_type\":\"synop\",\"lat\":47.6952,\"lon\":9.1307,\"height\":428.1,\"station_name\":\"Konstanz\",\"wmo_station_id\":\"10929\",\"first_record\":\"2025-08-06T13:30:00+00:00\",\"last_record\":\"2025-08-07T20:00:00+00:00\",\"distance\":0.0}]}"
     ]
    }
   ],
   "source": [
    "# Konstanz lat: 47.6952, lon: 9.1307\n",
    "# DWD ID 02044 \n",
    "lat = 47.6952\n",
    "lon = 9.1307\n",
    "\n",
    "!curl --request GET \\\n",
    "  --url 'https://api.brightsky.dev/current_weather?lat=47.6952&lon=9.1307' \\\n",
    "  --header 'Accept: application/json'\n"
   ]
  },
  {
   "cell_type": "markdown",
   "id": "f4d5396f",
   "metadata": {},
   "source": []
  }
 ],
 "metadata": {
  "kernelspec": {
   "display_name": "Python (FogCast)",
   "language": "python",
   "name": "fogcast"
  },
  "language_info": {
   "codemirror_mode": {
    "name": "ipython",
    "version": 3
   },
   "file_extension": ".py",
   "mimetype": "text/x-python",
   "name": "python",
   "nbconvert_exporter": "python",
   "pygments_lexer": "ipython3",
   "version": "3.10.10"
  }
 },
 "nbformat": 4,
 "nbformat_minor": 5
}
